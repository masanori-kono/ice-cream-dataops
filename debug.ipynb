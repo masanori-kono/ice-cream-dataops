{
 "cells": [
  {
   "cell_type": "code",
   "execution_count": 3,
   "metadata": {},
   "outputs": [],
   "source": [
    "from cognite.client import CogniteClient, ClientConfig\n",
    "from cognite.client.credentials import OAuthClientCredentials\n",
    "from dotenv import load_dotenv\n",
    "import os\n",
    "\n",
    "# Load environment variables from .env file\n",
    "load_dotenv()\n",
    "\n",
    "# Get credentials from environment variables\n",
    "client_id = os.getenv(\"DATA_PIPELINE_OEE_CLIENT_ID\")\n",
    "client_secret = os.getenv(\"DATA_PIPELINE_OEE_CLIENT_SECRET\")\n",
    "tenant_id = os.getenv(\"IDP_TENANT_ID\")\n",
    "\n",
    "IDP_AUTHORITY = os.getenv(\"IDP_AUTHORITY\", \"https://login.microsoftonline.com\")\n",
    "CLUSTER = os.getenv(\"CDF_CLUSTER\")\n",
    "PROJECT = os.getenv(\"CDF_PROJECT\")\n",
    "IDP_TOKEN_URL = os.getenv(\"IDP_TOKEN_URL\", \"https://login.microsoftonline.com\")\n",
    "\n",
    "# Create OAuth client credentials\n",
    "credentials = OAuthClientCredentials(\n",
    "    token_url=f\"{IDP_TOKEN_URL}\",\n",
    "    client_id=client_id,\n",
    "    client_secret=client_secret,\n",
    "    scopes=[f\"https://{CLUSTER}.cognitedata.com/.default\"]\n",
    ")\n",
    "\n",
    "# Create client configuration\n",
    "client_config = ClientConfig(\n",
    "    client_name=\"my-client-credential-app\",\n",
    "    base_url=f\"https://{CLUSTER}.cognitedata.com\",\n",
    "    project=PROJECT,\n",
    "    credentials=credentials\n",
    ")\n",
    "\n",
    "\n",
    "client = CogniteClient(client_config)\n"
   ]
  },
  {
   "cell_type": "code",
   "execution_count": 6,
   "metadata": {},
   "outputs": [
    {
     "name": "stdout",
     "output_type": "stream",
     "text": [
      "Space: icapi_dm_space\n",
      "Description: Space for the ice cream factory data\n",
      "Created Time: 1748249198111\n",
      "Last Updated Time: 1748249198111\n",
      "---\n",
      "Space: oee_ts_space\n",
      "Description: Space for the calculations of the OEE including Availability Quality, Performance, Off_spec and OEE\n",
      "Created Time: 1748249198111\n",
      "Last Updated Time: 1748249198111\n",
      "---\n"
     ]
    }
   ],
   "source": [
    "# List all spaces in the project\n",
    "spaces = client.data_modeling.spaces.list()\n",
    "\n",
    "# Print space information\n",
    "for space in spaces:\n",
    "    print(f\"Space: {space.space}\")\n",
    "    print(f\"Description: {space.description}\")\n",
    "    print(f\"Created Time: {space.created_time}\")\n",
    "    print(f\"Last Updated Time: {space.last_updated_time}\")\n",
    "    print(\"---\")"
   ]
  },
  {
   "cell_type": "code",
   "execution_count": null,
   "metadata": {},
   "outputs": [],
   "source": []
  }
 ],
 "metadata": {
  "kernelspec": {
   "display_name": ".venv",
   "language": "python",
   "name": "python3"
  },
  "language_info": {
   "codemirror_mode": {
    "name": "ipython",
    "version": 3
   },
   "file_extension": ".py",
   "mimetype": "text/x-python",
   "name": "python",
   "nbconvert_exporter": "python",
   "pygments_lexer": "ipython3",
   "version": "3.11.12"
  }
 },
 "nbformat": 4,
 "nbformat_minor": 2
}
